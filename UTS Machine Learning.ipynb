{
  "nbformat": 4,
  "nbformat_minor": 0,
  "metadata": {
    "colab": {
      "provenance": [],
      "authorship_tag": "ABX9TyP6F2FA6L3F1axSQpbqpi6W",
      "include_colab_link": true
    },
    "kernelspec": {
      "name": "python3",
      "display_name": "Python 3"
    },
    "language_info": {
      "name": "python"
    }
  },
  "cells": [
    {
      "cell_type": "markdown",
      "metadata": {
        "id": "view-in-github",
        "colab_type": "text"
      },
      "source": [
        "<a href=\"https://colab.research.google.com/github/ilyasa2002/Penjualan_Handphone/blob/main/UTS%20Machine%20Learning.ipynb\" target=\"_parent\"><img src=\"https://colab.research.google.com/assets/colab-badge.svg\" alt=\"Open In Colab\"/></a>"
      ]
    },
    {
      "cell_type": "code",
      "execution_count": 28,
      "metadata": {
        "id": "jmEA-rce9HXS"
      },
      "outputs": [],
      "source": [
        "import numpy as np\n",
        "import matplotlib.pyplot as plt\n",
        "import pandas as pd"
      ]
    },
    {
      "cell_type": "code",
      "source": [
        "data = pd.read_csv(\"Flipkart.csv\")\n",
        "x = data.iloc[:, :-1].values\n",
        "y = data.iloc[:, -1].values"
      ],
      "metadata": {
        "id": "GGNfkHwM9k5k"
      },
      "execution_count": 29,
      "outputs": []
    },
    {
      "cell_type": "code",
      "source": [
        "print(x)"
      ],
      "metadata": {
        "colab": {
          "base_uri": "https://localhost:8080/"
        },
        "id": "hJVextFJ9k3Z",
        "outputId": "d6150a57-b87f-47af-b3e4-9f113b1350b5"
      },
      "execution_count": 4,
      "outputs": [
        {
          "output_type": "stream",
          "name": "stdout",
          "text": [
            "[['OPPO' 'A53' 'Moonlight Black' ... '64 GB' 4.5 11990]\n",
            " ['OPPO' 'A53' 'Mint Cream' ... '64 GB' 4.5 11990]\n",
            " ['OPPO' 'A53' 'Moonlight Black' ... '128 GB' 4.3 13990]\n",
            " ...\n",
            " ['SAMSUNG' 'M52 5G' 'Icy Blue' ... '128 GB' 4.3 27239]\n",
            " ['SAMSUNG' 'M52 5G' 'Slate Black' ... '128 GB' 4.2 22989]\n",
            " ['SAMSUNG' 'M52 5G' 'Sky Blue' ... '128 GB' 4.2 20350]]\n"
          ]
        }
      ]
    },
    {
      "cell_type": "code",
      "source": [
        "print(y)"
      ],
      "metadata": {
        "colab": {
          "base_uri": "https://localhost:8080/"
        },
        "id": "AFPakNz_9k0A",
        "outputId": "ac58b5ee-c333-4d78-8b3a-78f40a8ee1aa"
      },
      "execution_count": 5,
      "outputs": [
        {
          "output_type": "stream",
          "name": "stdout",
          "text": [
            "[15990 15990 17990 ... 31489 22989 22595]\n"
          ]
        }
      ]
    },
    {
      "cell_type": "code",
      "source": [
        "data.isnull().sum()"
      ],
      "metadata": {
        "colab": {
          "base_uri": "https://localhost:8080/"
        },
        "id": "p7UIGVFV9kxz",
        "outputId": "ec03dee1-9d84-41cf-eef1-7e95398689e8"
      },
      "execution_count": 6,
      "outputs": [
        {
          "output_type": "execute_result",
          "data": {
            "text/plain": [
              "Brand               0\n",
              "Model               0\n",
              "Color               0\n",
              "Memory             43\n",
              "Storage            39\n",
              "Rating            144\n",
              "Selling Price       0\n",
              "Original Price      0\n",
              "dtype: int64"
            ]
          },
          "metadata": {},
          "execution_count": 6
        }
      ]
    },
    {
      "cell_type": "code",
      "source": [
        "most_frequent_Memory = data[\"Memory\"].mode()[0]"
      ],
      "metadata": {
        "id": "mvD-aoHC9ktm"
      },
      "execution_count": 7,
      "outputs": []
    },
    {
      "cell_type": "code",
      "source": [
        "print (most_frequent_Memory)"
      ],
      "metadata": {
        "colab": {
          "base_uri": "https://localhost:8080/"
        },
        "id": "_1ubiAlV9kry",
        "outputId": "209d9c19-c150-450f-9f0c-3d0909285752"
      },
      "execution_count": 8,
      "outputs": [
        {
          "output_type": "stream",
          "name": "stdout",
          "text": [
            "4 GB\n"
          ]
        }
      ]
    },
    {
      "cell_type": "code",
      "source": [
        "most_frequent_Storage = data[\"Storage\"].mode()[0]"
      ],
      "metadata": {
        "id": "Si-LZ1R59kpL"
      },
      "execution_count": 9,
      "outputs": []
    },
    {
      "cell_type": "code",
      "source": [
        "print (most_frequent_Storage)"
      ],
      "metadata": {
        "colab": {
          "base_uri": "https://localhost:8080/"
        },
        "id": "8PrlhSZP9knb",
        "outputId": "e933d847-d548-4c83-ee18-2c8d47100ae2"
      },
      "execution_count": 10,
      "outputs": [
        {
          "output_type": "stream",
          "name": "stdout",
          "text": [
            "64 GB\n"
          ]
        }
      ]
    },
    {
      "cell_type": "code",
      "source": [
        "data[\"Memory\"] = data[\"Memory\"].fillna(most_frequent_Memory)"
      ],
      "metadata": {
        "id": "IXTAmPJc9klc"
      },
      "execution_count": 11,
      "outputs": []
    },
    {
      "cell_type": "code",
      "source": [
        "data.isnull().sum()"
      ],
      "metadata": {
        "colab": {
          "base_uri": "https://localhost:8080/"
        },
        "id": "Eyxdfszr9kjp",
        "outputId": "40dc5a72-ea59-4b1e-8c85-42c7cb156187"
      },
      "execution_count": 12,
      "outputs": [
        {
          "output_type": "execute_result",
          "data": {
            "text/plain": [
              "Brand               0\n",
              "Model               0\n",
              "Color               0\n",
              "Memory              0\n",
              "Storage            39\n",
              "Rating            144\n",
              "Selling Price       0\n",
              "Original Price      0\n",
              "dtype: int64"
            ]
          },
          "metadata": {},
          "execution_count": 12
        }
      ]
    },
    {
      "cell_type": "code",
      "source": [
        "data[\"Storage\"] = data[\"Storage\"].fillna(most_frequent_Storage)"
      ],
      "metadata": {
        "id": "gBHFkyJW9ke3"
      },
      "execution_count": 13,
      "outputs": []
    },
    {
      "cell_type": "code",
      "source": [
        "data.isnull().sum()"
      ],
      "metadata": {
        "colab": {
          "base_uri": "https://localhost:8080/"
        },
        "id": "9V74iVzv9kal",
        "outputId": "4195a295-4122-4dcd-d5a7-5156d420904d"
      },
      "execution_count": 14,
      "outputs": [
        {
          "output_type": "execute_result",
          "data": {
            "text/plain": [
              "Brand               0\n",
              "Model               0\n",
              "Color               0\n",
              "Memory              0\n",
              "Storage             0\n",
              "Rating            144\n",
              "Selling Price       0\n",
              "Original Price      0\n",
              "dtype: int64"
            ]
          },
          "metadata": {},
          "execution_count": 14
        }
      ]
    },
    {
      "cell_type": "code",
      "source": [
        "from sklearn.impute import SimpleImputer\n",
        "imputer = SimpleImputer(strategy='mean')\n",
        "data['Rating'] = imputer.fit_transform(data[['Rating']])"
      ],
      "metadata": {
        "id": "xpM_CYU39kVt"
      },
      "execution_count": 15,
      "outputs": []
    },
    {
      "cell_type": "code",
      "source": [
        "print (data)"
      ],
      "metadata": {
        "colab": {
          "base_uri": "https://localhost:8080/"
        },
        "id": "Oq0RzjVd9kT5",
        "outputId": "527b3345-1717-41fb-f8f3-2b37a85f634f"
      },
      "execution_count": 16,
      "outputs": [
        {
          "output_type": "stream",
          "name": "stdout",
          "text": [
            "        Brand   Model            Color Memory Storage  Rating  Selling Price  \\\n",
            "0        OPPO     A53  Moonlight Black   4 GB   64 GB     4.5          11990   \n",
            "1        OPPO     A53       Mint Cream   4 GB   64 GB     4.5          11990   \n",
            "2        OPPO     A53  Moonlight Black   6 GB  128 GB     4.3          13990   \n",
            "3        OPPO     A53       Mint Cream   6 GB  128 GB     4.3          13990   \n",
            "4        OPPO     A53   Electric Black   4 GB   64 GB     4.5          11990   \n",
            "...       ...     ...              ...    ...     ...     ...            ...   \n",
            "3109  SAMSUNG  M52 5G    Blazing Black   6 GB  128 GB     4.3          25990   \n",
            "3110  SAMSUNG  M52 5G         Icy Blue   6 GB  128 GB     4.3          25489   \n",
            "3111  SAMSUNG  M52 5G         Icy Blue   8 GB  128 GB     4.3          27239   \n",
            "3112  SAMSUNG  M52 5G      Slate Black   8 GB  128 GB     4.2          22989   \n",
            "3113  SAMSUNG  M52 5G         Sky Blue   8 GB  128 GB     4.2          20350   \n",
            "\n",
            "      Original Price  \n",
            "0              15990  \n",
            "1              15990  \n",
            "2              17990  \n",
            "3              17990  \n",
            "4              15990  \n",
            "...              ...  \n",
            "3109           25990  \n",
            "3110           28449  \n",
            "3111           31489  \n",
            "3112           22989  \n",
            "3113           22595  \n",
            "\n",
            "[3114 rows x 8 columns]\n"
          ]
        }
      ]
    },
    {
      "cell_type": "code",
      "source": [
        "data.isnull().sum()"
      ],
      "metadata": {
        "colab": {
          "base_uri": "https://localhost:8080/"
        },
        "id": "bM-o_6f89kQI",
        "outputId": "d55096b8-8883-483f-a178-5f70d1e478ac"
      },
      "execution_count": 17,
      "outputs": [
        {
          "output_type": "execute_result",
          "data": {
            "text/plain": [
              "Brand             0\n",
              "Model             0\n",
              "Color             0\n",
              "Memory            0\n",
              "Storage           0\n",
              "Rating            0\n",
              "Selling Price     0\n",
              "Original Price    0\n",
              "dtype: int64"
            ]
          },
          "metadata": {},
          "execution_count": 17
        }
      ]
    },
    {
      "cell_type": "code",
      "source": [
        "from sklearn.compose import ColumnTransformer\n",
        "from sklearn.preprocessing import OneHotEncoder\n",
        "ct = ColumnTransformer(transformers=[('encoder', OneHotEncoder(),[0])], remainder='passthrough')\n",
        "x = np.array(ct.fit_transform(x))"
      ],
      "metadata": {
        "id": "F46FLhYu9kOV"
      },
      "execution_count": 18,
      "outputs": []
    },
    {
      "cell_type": "code",
      "source": [
        "print(x)"
      ],
      "metadata": {
        "colab": {
          "base_uri": "https://localhost:8080/"
        },
        "id": "3pxJPwhh97ff",
        "outputId": "a449e62d-f22f-4af0-f6ce-ed6b0fbb368d"
      },
      "execution_count": 19,
      "outputs": [
        {
          "output_type": "stream",
          "name": "stdout",
          "text": [
            "[[0.0 0.0 0.0 ... '64 GB' 4.5 11990]\n",
            " [0.0 0.0 0.0 ... '64 GB' 4.5 11990]\n",
            " [0.0 0.0 0.0 ... '128 GB' 4.3 13990]\n",
            " ...\n",
            " [0.0 0.0 0.0 ... '128 GB' 4.3 27239]\n",
            " [0.0 0.0 0.0 ... '128 GB' 4.2 22989]\n",
            " [0.0 0.0 0.0 ... '128 GB' 4.2 20350]]\n"
          ]
        }
      ]
    },
    {
      "cell_type": "code",
      "source": [
        "from sklearn.preprocessing import LabelEncoder\n",
        "le = LabelEncoder()\n",
        "y = le.fit_transform(y)"
      ],
      "metadata": {
        "id": "gKW6o0ff97RY"
      },
      "execution_count": 20,
      "outputs": []
    },
    {
      "cell_type": "code",
      "source": [
        "print (y)"
      ],
      "metadata": {
        "colab": {
          "base_uri": "https://localhost:8080/"
        },
        "id": "TNtwrcjN9-Wy",
        "outputId": "423157d8-3215-4053-e223-83e267b643f0"
      },
      "execution_count": 21,
      "outputs": [
        {
          "output_type": "stream",
          "name": "stdout",
          "text": [
            "[433 433 474 ... 623 547 544]\n"
          ]
        }
      ]
    },
    {
      "cell_type": "code",
      "source": [
        "from sklearn.model_selection import train_test_split\n",
        "x_train, x_test, y_train, y_test = train_test_split(x, y, test_size = 0.2, random_state = 1)"
      ],
      "metadata": {
        "id": "VnJoxPvE9-Up"
      },
      "execution_count": 22,
      "outputs": []
    },
    {
      "cell_type": "code",
      "source": [
        "print(x_train)"
      ],
      "metadata": {
        "colab": {
          "base_uri": "https://localhost:8080/"
        },
        "id": "a5Zs7Ytw9-Sz",
        "outputId": "11e79acc-c2d3-4d8c-ad73-f79b571add12"
      },
      "execution_count": 23,
      "outputs": [
        {
          "output_type": "stream",
          "name": "stdout",
          "text": [
            "[[0.0 0.0 0.0 ... '64 GB' 4.4 19990]\n",
            " [0.0 0.0 0.0 ... '32 GB' 4.4 7199]\n",
            " [0.0 0.0 0.0 ... '64 GB' 4.4 32990]\n",
            " ...\n",
            " [0.0 0.0 0.0 ... '64 GB' 4.3 18599]\n",
            " [0.0 0.0 0.0 ... '64 GB' 4.3 18990]\n",
            " [0.0 0.0 0.0 ... '16 GB' 4.1 7139]]\n"
          ]
        }
      ]
    },
    {
      "cell_type": "code",
      "source": [
        "print(x_test)"
      ],
      "metadata": {
        "colab": {
          "base_uri": "https://localhost:8080/"
        },
        "id": "_Xd-QBTS9-PD",
        "outputId": "e8abbadb-0057-40fa-c8cb-8d574fe5b5ed"
      },
      "execution_count": 24,
      "outputs": [
        {
          "output_type": "stream",
          "name": "stdout",
          "text": [
            "[[0.0 0.0 0.0 ... '64 GB' 4.5 9999]\n",
            " [0.0 0.0 0.0 ... '32 GB' 4.2 8299]\n",
            " [0.0 0.0 0.0 ... '32 GB' 4.4 14995]\n",
            " ...\n",
            " [0.0 0.0 0.0 ... '128 GB' 4.6 53990]\n",
            " [0.0 0.0 0.0 ... '16 GB' 4.3 8990]\n",
            " [0.0 0.0 0.0 ... '8 GB' 3.9 7999]]\n"
          ]
        }
      ]
    },
    {
      "cell_type": "code",
      "source": [
        "from sklearn.preprocessing import StandardScaler\n",
        "sc = StandardScaler()\n",
        "scaled_x_train = sc.fit_transform(x_train[:, :6])\n",
        "scaled_x_test = sc.transform(x_test[:, :6])"
      ],
      "metadata": {
        "id": "uKphEs3q9-I2"
      },
      "execution_count": 25,
      "outputs": []
    },
    {
      "cell_type": "code",
      "source": [
        "print (scaled_x_train)"
      ],
      "metadata": {
        "colab": {
          "base_uri": "https://localhost:8080/"
        },
        "id": "dIx-v0IV9-FL",
        "outputId": "2194dbf0-a4b4-4e3f-c05a-e9c24e5d4299"
      },
      "execution_count": 26,
      "outputs": [
        {
          "output_type": "stream",
          "name": "stdout",
          "text": [
            "[[-0.20236793 -0.37770432 -0.20873269 -0.09653645 -0.13716379 -0.04484711]\n",
            " [-0.20236793 -0.37770432 -0.20873269 -0.09653645 -0.13716379 -0.04484711]\n",
            " [-0.20236793 -0.37770432 -0.20873269 -0.09653645 -0.13716379 -0.04484711]\n",
            " ...\n",
            " [-0.20236793 -0.37770432 -0.20873269 -0.09653645 -0.13716379 -0.04484711]\n",
            " [-0.20236793 -0.37770432 -0.20873269 -0.09653645 -0.13716379 -0.04484711]\n",
            " [-0.20236793 -0.37770432 -0.20873269 -0.09653645 -0.13716379 -0.04484711]]\n"
          ]
        }
      ]
    },
    {
      "cell_type": "code",
      "source": [
        "print (scaled_x_test)"
      ],
      "metadata": {
        "colab": {
          "base_uri": "https://localhost:8080/"
        },
        "id": "nSc2allN9-DP",
        "outputId": "cf77eb53-f113-4d9f-e0a1-a6d2270471db"
      },
      "execution_count": 27,
      "outputs": [
        {
          "output_type": "stream",
          "name": "stdout",
          "text": [
            "[[-0.20236793 -0.37770432 -0.20873269 -0.09653645 -0.13716379 -0.04484711]\n",
            " [-0.20236793 -0.37770432 -0.20873269 -0.09653645 -0.13716379 -0.04484711]\n",
            " [-0.20236793 -0.37770432 -0.20873269 -0.09653645 -0.13716379 -0.04484711]\n",
            " ...\n",
            " [-0.20236793 -0.37770432 -0.20873269 -0.09653645  7.29055375 -0.04484711]\n",
            " [-0.20236793 -0.37770432 -0.20873269 -0.09653645 -0.13716379 -0.04484711]\n",
            " [-0.20236793 -0.37770432 -0.20873269 -0.09653645  7.29055375 -0.04484711]]\n"
          ]
        }
      ]
    }
  ]
}